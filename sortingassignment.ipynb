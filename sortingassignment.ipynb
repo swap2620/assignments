{
 "cells": [
  {
   "cell_type": "code",
   "execution_count": 36,
   "id": "7cf95ab6-a1f7-40dc-8031-81627b0bd4df",
   "metadata": {},
   "outputs": [],
   "source": [
    "#1.Given an array of n numbers, give an algorithm which gives\n",
    "#the element appearing maximum number of times?\n",
    "#approach 1 using loops where the complexity is n2 \n",
    "def maxelement(arr) : \n",
    "    currmax = 0 \n",
    "    cnt  = 0 \n",
    "    maxindx = 0 \n",
    "    for i in range(len(arr)) : \n",
    "        cnt  = 0 \n",
    "        for j in range(i, len(arr)) : \n",
    "            \n",
    "           \n",
    "            if arr[i] == arr[j] : \n",
    "                cnt = cnt + 1 \n",
    "            \n",
    "            if cnt > currmax :\n",
    "                currmax = cnt \n",
    "                maxindx = i \n",
    "        \n",
    "    print(f\"Number {arr[maxindx]} is printed {currmax} times\") "
   ]
  },
  {
   "cell_type": "code",
   "execution_count": 40,
   "id": "d0ba4601-1c94-4043-b53e-a502d1b2086f",
   "metadata": {},
   "outputs": [
    {
     "name": "stdout",
     "output_type": "stream",
     "text": [
      "Number 1 is printed 6 times\n"
     ]
    }
   ],
   "source": [
    "arr = [3,1,3,3,1,6,8,3,5,3,8,1,1,1,1]\n",
    "maxelement(arr)"
   ]
  },
  {
   "cell_type": "code",
   "execution_count": 58,
   "id": "71e5c86c-ea1e-46d9-86ff-0e78e7b55b59",
   "metadata": {},
   "outputs": [],
   "source": [
    "#Soln for problem 1 using sorting and then checking \n",
    "def selectionsort(arr) :\n",
    "    for i in range(len(arr)) : \n",
    "        min1 = i \n",
    "        for j in range( i+1 , len(arr)) : \n",
    "            if arr[j] < arr[min1] :\n",
    "                min1 = j \n",
    "        arr[i] , arr[min1] = arr[min1] , arr[i]\n",
    "    return(arr)\n",
    "\n",
    "def maxelementrec(arr,n) : \n",
    "    currmax = 0 \n",
    "    count = 0\n",
    "            \n",
    "    for i in range(1,n) : \n",
    "        if arr[i] == arr[i-1] : \n",
    "            count = count + 1 \n",
    "        else :\n",
    "            count = 1 \n",
    "        if count > currmax :\n",
    "            currmax = count \n",
    "            maxindx = arr[i-1]       \n",
    "            \n",
    "    print(f\"Number {arr[maxindx]} is printed {currmax} times\")\n",
    "    \n",
    "        "
   ]
  },
  {
   "cell_type": "code",
   "execution_count": 59,
   "id": "f2ebae68-a0e1-4f77-84ac-0c1c334ea31d",
   "metadata": {},
   "outputs": [
    {
     "name": "stdout",
     "output_type": "stream",
     "text": [
      "Number 1 is printed 5 times\n"
     ]
    }
   ],
   "source": [
    "arr = [3,1,3,3,1,6,8,3,5,3,8,1,1,1,1]\n",
    "arr = selectionsort(arr) \n",
    "n = len(arr)\n",
    "maxelementrec(arr,n)\n"
   ]
  },
  {
   "cell_type": "code",
   "execution_count": 89,
   "id": "f9897f71-63db-4f53-b1a8-94249504279e",
   "metadata": {},
   "outputs": [],
   "source": [
    "#We are given a list of n-1 integers and these integers \n",
    "#are in the range of 1 to n . There are no duplicates in the list. \n",
    "#One of the integers is missing in the list. Give an algorithm to find\n",
    "#that element Ex:[1,2,4,6,3,7,8] 5 is the missing num.\n",
    "\n",
    "#Addition of n naturnal numbers = n+1 * n+2/2 \n",
    "#Sum of array , subtraction of both should give you the missing number \n",
    "#check the missing number \n",
    "def missingnumber(arr,n) :\n",
    "    \n",
    "    sumtot = (n+1) * (n+2) /2 \n",
    "    arrtot = sum(arr) \n",
    "    return(sumtot - arrtot)\n",
    "    \n"
   ]
  },
  {
   "cell_type": "code",
   "execution_count": 90,
   "id": "cabe8da6-f53f-4b73-b423-d2d7f7aea6c7",
   "metadata": {},
   "outputs": [
    {
     "name": "stdout",
     "output_type": "stream",
     "text": [
      "3.0\n"
     ]
    }
   ],
   "source": [
    "arr = [1,2,4,6,5,7,9,8,10]\n",
    "n = len(arr)\n",
    "a = missingnumber(arr,n)\n",
    "print(a)"
   ]
  },
  {
   "cell_type": "code",
   "execution_count": null,
   "id": "d90ad32e-19da-457e-a61f-c66e6eddff03",
   "metadata": {},
   "outputs": [],
   "source": [
    "#Given an array of n positive numbers. \n",
    "#All numbers occurs even number of times except 1 which\n",
    "#occurs odd number of times. Find that number in O(n) time \n",
    "#and O(1) space. Ex: [1,2,3,2,3,1,3]. 3 is repeats odd times"
   ]
  },
  {
   "cell_type": "code",
   "execution_count": 6,
   "id": "2158637f-409f-416b-aed7-ed00bc566340",
   "metadata": {},
   "outputs": [],
   "source": [
    "#4 Problem 4 : Given an array of n elements. Find two elements in \n",
    "# the array such that their sum is equal to given element K.\n",
    "#Sort the array first and then use 2 pointer technique \n",
    "\n",
    "def selectionsort(arr) :\n",
    "    for i in range(len(arr)) : \n",
    "        min1 = i \n",
    "        for j in range( i+1 , len(arr)) : \n",
    "            if arr[j] < arr[min1] :\n",
    "                min1 = j \n",
    "        arr[i] , arr[min1] = arr[min1] , arr[i]\n",
    "    return(arr)\n",
    "\n",
    "def closeadd(arr ,si , ei, k) : \n",
    "    \n",
    "    if si >= ei :\n",
    "        return (-1 ,-1)\n",
    "    \n",
    "    if arr[si] + arr[ei] == k :\n",
    "        return (si,ei)\n",
    "    elif arr[si] + arr[ei] > k :\n",
    "        return closeadd(arr, si , ei-1, k ) \n",
    "    elif arr[si] + arr[ei] < k :\n",
    "        return closeadd(arr, si + 1 ,ei , k )  \n",
    "   "
   ]
  },
  {
   "cell_type": "code",
   "execution_count": 10,
   "id": "ef83c3ac-25d7-4232-bf71-062f57f609c1",
   "metadata": {},
   "outputs": [
    {
     "name": "stdout",
     "output_type": "stream",
     "text": [
      "6 45\n"
     ]
    }
   ],
   "source": [
    "arr = [1, 4, 45, 6, 10, -8]\n",
    "arr = selectionsort(arr) \n",
    "si1,si2  =  closeadd(arr,0,5,51)\n",
    "print(arr[si1], arr[si2])"
   ]
  },
  {
   "cell_type": "code",
   "execution_count": 28,
   "id": "6829e8d2-6243-44fd-b106-31d04b7616b8",
   "metadata": {},
   "outputs": [],
   "source": [
    "#5 Given an array of both positive and negative numbers, \n",
    "#find two numbers such that their sum is closest to 0.\n",
    "#Ex: [ 1 ,60 ,-10, 70, -80,85]. Ans : -80,85.\n",
    "\n",
    "#Step 1 sort the array \n",
    "#Step 2 Use 2 pointer is sum is negative increase l is postive decrease r \n",
    "#step 3 Compare the lowest \n",
    "def selectionsort(arr) :\n",
    "    for i in range(len(arr)) : \n",
    "        min1 = i \n",
    "        for j in range( i+1 , len(arr)) : \n",
    "            if arr[j] < arr[min1] :\n",
    "                min1 = j \n",
    "        arr[i] , arr[min1] = arr[min1] , arr[i]\n",
    "    return(arr)\n",
    "\n",
    "def closest(arr, l , n) : \n",
    "\n",
    "    # Initialization of values \n",
    "    min_l = 0\n",
    "    min_r = 1\n",
    "    min_sum = arr[0] + arr[1]\n",
    "    # Variables to keep track\n",
    "    # of current sum and minimum sum\n",
    "    sum, min_sum = 0, 10**9\n",
    " \n",
    "    # left and right index variables\n",
    "    l = 0\n",
    "    r = n\n",
    " \n",
    "    # variable to keep track of\n",
    "    # the left and right pair for min_sum\n",
    "    min_l = l\n",
    "    min_r = n \n",
    "    \n",
    "    while(l < r):\n",
    "        sum = arr[l] + arr[r]\n",
    " \n",
    "        # If abs(sum) is less\n",
    "        # then update the result items\n",
    "        if(abs(sum) < abs(min_sum)):\n",
    "            min_sum = sum\n",
    "            min_l = l\n",
    "            min_r = r\n",
    "        if(sum < 0):\n",
    "            l += 1\n",
    "        else:\n",
    "            r -= 1\n",
    " \n",
    "    print(\"The two elements whose sum is minimum are\", \n",
    "                        arr[min_l], \"and\", arr[min_r])\n",
    " \n",
    "    "
   ]
  },
  {
   "cell_type": "code",
   "execution_count": 29,
   "id": "eef1ddda-157a-4ed5-ace5-d87e36b0d79e",
   "metadata": {},
   "outputs": [
    {
     "name": "stdout",
     "output_type": "stream",
     "text": [
      "The two elements whose sum is minimum are -80 and 85\n"
     ]
    }
   ],
   "source": [
    "arr = [1 ,60 ,-10, 70, -80,85]\n",
    "arr = selectionsort(arr) \n",
    "closest(arr,0,5)\n"
   ]
  },
  {
   "cell_type": "code",
   "execution_count": null,
   "id": "f8c02133-9b54-4442-8c02-979eb292e73c",
   "metadata": {},
   "outputs": [],
   "source": []
  }
 ],
 "metadata": {
  "kernelspec": {
   "display_name": "Python 3 (ipykernel)",
   "language": "python",
   "name": "python3"
  },
  "language_info": {
   "codemirror_mode": {
    "name": "ipython",
    "version": 3
   },
   "file_extension": ".py",
   "mimetype": "text/x-python",
   "name": "python",
   "nbconvert_exporter": "python",
   "pygments_lexer": "ipython3",
   "version": "3.10.8"
  }
 },
 "nbformat": 4,
 "nbformat_minor": 5
}
