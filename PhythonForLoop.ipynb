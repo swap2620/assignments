{
 "cells": [
  {
   "cell_type": "code",
   "execution_count": 50,
   "id": "178124ba-9857-4fc7-820e-7265e9e95ebc",
   "metadata": {},
   "outputs": [
    {
     "name": "stdout",
     "output_type": "stream",
     "text": [
      "Range of Number 1\n",
      "Range of Number 2\n",
      "Range of Number 3\n",
      "Range of Number 4\n",
      "Range of Number 5\n",
      "Range of Number 6\n",
      "Range of Number 7\n",
      "Range of Number 8\n",
      "Range of Number 9\n",
      "Range of Number 10\n",
      "Total Sum 59\n",
      "14\n",
      "GNIZAMASIAIDNI"
     ]
    },
    {
     "name": "stdin",
     "output_type": "stream",
     "text": [
      "Please enter a number to find factorial 2\n"
     ]
    },
    {
     "name": "stdout",
     "output_type": "stream",
     "text": [
      "2\n"
     ]
    },
    {
     "name": "stdin",
     "output_type": "stream",
     "text": [
      "please enter a number to get multiplcation table 2\n"
     ]
    },
    {
     "name": "stdout",
     "output_type": "stream",
     "text": [
      "2 * 1 = 2\n",
      "2 * 2 = 4\n",
      "2 * 3 = 6\n",
      "2 * 4 = 8\n",
      "2 * 5 = 10\n",
      "2 * 6 = 12\n",
      "2 * 7 = 14\n",
      "2 * 8 = 16\n",
      "2 * 9 = 18\n",
      "2 * 10 = 20\n",
      "2 * 11 = 22\n",
      "2 * 12 = 24\n",
      "even cnt 4 and odd count 4\n",
      "1\n",
      "4\n",
      "9\n",
      "16\n",
      "25\n",
      "11\n",
      "11\n",
      "Average 8.428571428571429\n"
     ]
    }
   ],
   "source": [
    "\n",
    "\n",
    "#1\n",
    "for i in range(1,11,1) : \n",
    "    print(\"Range of Number\",i) \n",
    "\n",
    "#2 Create a program that calculates the sum of all numbers in a list using a `for` loop\n",
    "lst2 = [2,4,5,6,8,20,14]\n",
    "sum1 = 0\n",
    "for i in lst2:\n",
    "    sum1 = sum1 + i \n",
    "print(\"Total Sum\",sum1)\n",
    "\n",
    "#3. Write a program to print the characters of a string in reverse order using a `for` loop.\n",
    "str1 = \"INDIAISAMAZING\"\n",
    "len1 = len(str1)\n",
    "print(len1)\n",
    "for i in range(len1-1,-1,-1):\n",
    "    print(str1[i],end = '')\n",
    "\n",
    "#4. Develop a program that finds the factorial of a given number using a `for` loop.\n",
    "facnum = int(input(\"Please enter a number to find factorial\"))\n",
    "factsum = 1\n",
    "for i in range(facnum,0,-1):\n",
    "    factsum  = factsum * i \n",
    "print(factsum)\n",
    "\n",
    "#5. Create a program to print the multiplication table of a given number using a `for` loop.\n",
    "mulnum = int(input(\"please enter a number to get multiplcation table\"))\n",
    "for i in range(1,13):\n",
    "    print(mulnum,\"*\",i,\"=\",(i * mulnum))\n",
    "                   \n",
    "#6. Write a program that counts the number of even and odd numbers in a list using a `for` loop.\n",
    "evencnt = 0 \n",
    "oddcnt  = 0 \n",
    "lst2 = [1,3,2,5,7,28,90,22]\n",
    "for i in lst2 :\n",
    "    if i % 2 == 0:\n",
    "        evencnt = evencnt + 1 \n",
    "    else :\n",
    "        oddcnt = oddcnt + 1 \n",
    "print(f\"even cnt {evencnt} and odd count {oddcnt}\")\n",
    "#7. Develop a program that prints the squares of numbers from 1 to 5 using a `for` loop.\n",
    "for i in range(1,6): \n",
    "    print(i*i)\n",
    "#8. Create a program to find the length of a string without using the `len()` function.\n",
    "str3 = \"SwapnilMane\"\n",
    "cnt = 0 \n",
    "print(len(str3))\n",
    "for i in str3:\n",
    "    cnt = cnt + 1 \n",
    "print(cnt)\n",
    "#9. Write a program that calculates the average of a list of numbers using a `for` loop.\n",
    "lst3 = [2,4,5,6,8,20,14]\n",
    "sum4 = 0\n",
    "for i in lst3:\n",
    "    sum4 += i \n",
    "print(\"Average\",(sum4 / len(lst3)))\n",
    "\n",
    "#10. Develop a program that prints the first `n` Fibonacci numbers using a `for` loop.'''\n",
    "\n",
    "\n",
    "\n",
    "\n",
    "\n"
   ]
  },
  {
   "cell_type": "code",
   "execution_count": 112,
   "id": "a51e619b-eacc-40d1-a606-754e2784fec8",
   "metadata": {},
   "outputs": [
    {
     "name": "stdout",
     "output_type": "stream",
     "text": [
      "{2, 3, 4, 5, 6, 8, 12, 14, 78, 20, 56}\n",
      "lst 5 contains duplicate value\n"
     ]
    },
    {
     "name": "stdin",
     "output_type": "stream",
     "text": [
      "Enter Start range for prime Number 1\n",
      "Enter end range for prime Number 29\n"
     ]
    },
    {
     "name": "stdout",
     "output_type": "stream",
     "text": [
      "[1, 2, 3, 5, 7, 11, 13, 17, 19, 23]\n"
     ]
    },
    {
     "data": {
      "text/plain": [
       "0"
      ]
     },
     "execution_count": 112,
     "metadata": {},
     "output_type": "execute_result"
    }
   ],
   "source": [
    "#11.Write a program to check if a given list contains any duplicates using a `for` loop.\n",
    "lst5 = [2,4,5,6,8,20,14,12,2,56,78,20]\n",
    "lst6 = []\n",
    "for i in lst5: \n",
    "    set1.add(i)\n",
    "print(set1)\n",
    "\n",
    "if len(lst5) != len(lst6):\n",
    "    print(\"lst 5 contains duplicate value\")\n",
    "    \n",
    "#12. Create a program that prints the prime numbers in a given range using a `for` loop.\n",
    "num = int(input(\"Enter Start range for prime Number\"))\n",
    "num1 = int(input(\"Enter end range for prime Number\"))\n",
    "\n",
    "lst6 = []\n",
    "for i  in range(num,num1):\n",
    "    \n",
    "    if i == 1 :\n",
    "        lst6.append(i)\n",
    "    else :\n",
    "        isprime = True\n",
    "        for j in range(2,i):\n",
    "           if (i % j) == 0 :\n",
    "              isprime = False \n",
    "        if isprime == True :\n",
    "           lst6.append(i)\n",
    "print(lst6)\n",
    "#13. Develop a program that counts the number of vowels in a string using a `for` loop.\n",
    "vowel = [\"a\",\"e\",\"i\",\"o\",\"u\"]\n",
    "str7 = \"Today is amazing day\"\n",
    "for i in vowel:\n",
    "    print(f\"{i} is {str7.count(i)} many time\")\n",
    "\n",
    "#14. Write a program to find the maximum element in a 2D list using a nested `for` loop.\n",
    "#15. Create a program that removes all occurrences of a specific element from a list using a `for` loop.\n",
    "#16. Develop a program that generates a multiplication table for numbers from 1 to 5 using a nested `for` loop.\n",
    "#17. Write a program that converts a list of Fahrenheit temperatures to Celsius using a `for` loop.\n",
    "#18. Create a program to print the common elements from two lists using a `for` loop.\n",
    "#19. Develop a program that prints the pattern of right-angled triangles using a `for` loop. Use ‘*’ to draw the\n",
    "#20. Write a program to find the greatest common divisor (GCD) of two numbers using a `for` loop."
   ]
  },
  {
   "cell_type": "code",
   "execution_count": 120,
   "id": "a0027285-bd05-4d05-b2ae-1af30ca5c0c0",
   "metadata": {},
   "outputs": [
    {
     "name": "stdout",
     "output_type": "stream",
     "text": [
      "a is 4 many time\n",
      "e is 0 many time\n",
      "i is 2 many time\n",
      "o is 1 many time\n",
      "u is 0 many time\n"
     ]
    }
   ],
   "source": [
    "\n",
    "\n",
    "\n"
   ]
  },
  {
   "cell_type": "code",
   "execution_count": 103,
   "id": "758f5436-f71e-4255-8413-33d7d83a9737",
   "metadata": {},
   "outputs": [
    {
     "name": "stdout",
     "output_type": "stream",
     "text": [
      "1\n"
     ]
    }
   ],
   "source": [
    "print(13 % 2)"
   ]
  },
  {
   "cell_type": "code",
   "execution_count": null,
   "id": "772e3304-6a42-4c06-aba4-8731396fccc3",
   "metadata": {},
   "outputs": [],
   "source": []
  }
 ],
 "metadata": {
  "kernelspec": {
   "display_name": "Python 3 (ipykernel)",
   "language": "python",
   "name": "python3"
  },
  "language_info": {
   "codemirror_mode": {
    "name": "ipython",
    "version": 3
   },
   "file_extension": ".py",
   "mimetype": "text/x-python",
   "name": "python",
   "nbconvert_exporter": "python",
   "pygments_lexer": "ipython3",
   "version": "3.10.8"
  }
 },
 "nbformat": 4,
 "nbformat_minor": 5
}
