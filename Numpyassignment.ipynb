{
 "cells": [
  {
   "cell_type": "raw",
   "id": "3c37c076-a27b-442e-9a30-f7c1c5e4b392",
   "metadata": {},
   "source": [
    "1. What is a Python library? Why do we use Python libraries?\n",
    "Phython libary is collection of similar function , we use phython libaries to imporve the efficency and correctness of the logic in the program .\n",
    "This allows users to reuse the code instead of rewritting the same again and again "
   ]
  },
  {
   "cell_type": "raw",
   "id": "dd820c76-52a6-49cd-8673-e8cf6cd0eab5",
   "metadata": {},
   "source": [
    "2. What is the Difference between Numpy array and List?\n",
    "Numpy can have homogenous values , Numpy are more faster then list \n",
    "List is used to collect items that usually consist of elements of multiple data types. An array is also a vital component that collects several items of the same data type. List cannot manage arithmetic operations. Array can manage arithmetic operations."
   ]
  },
  {
   "cell_type": "code",
   "execution_count": 9,
   "id": "2650fcd2-04a7-49e0-b0b1-6f693f6bd6dd",
   "metadata": {},
   "outputs": [
    {
     "name": "stdout",
     "output_type": "stream",
     "text": [
      "(3, 4)\n",
      "12\n",
      "2\n"
     ]
    }
   ],
   "source": [
    "# 3. Fin^ the shape, size an^ ^imension of the following array?\n",
    "import numpy as np\n",
    "l = [ [1, 2, 3, 4],\n",
    "     [5, 6, 7, 8],\n",
    "     [9, 10, 11, 12] ]\n",
    "arr = np.array(l)\n",
    "\n",
    "print(arr.shape)\n",
    "print(arr.size)\n",
    "print(arr.ndim)"
   ]
  },
  {
   "cell_type": "code",
   "execution_count": 16,
   "id": "6e203c2c-1e49-48cd-bb8c-ea9d85663da2",
   "metadata": {},
   "outputs": [
    {
     "name": "stdout",
     "output_type": "stream",
     "text": [
      "[1 2 3 4]\n",
      "12\n",
      "[[ True False  True False]\n",
      " [ True False  True False]\n",
      " [ True False  True False]]\n"
     ]
    }
   ],
   "source": [
    "# 4. Write python co^e to access the first row of the following array?\n",
    "print(arr[0])\n",
    "#How do you access the element at the third row \n",
    "#and fourth column from the given numpy array?\n",
    "print(arr[2,3])\n",
    "\n",
    "# Write co^e to extract all o^^-in^exe^ elements from the given numpy array?\n",
    "print(arr % 2 != 0)\n"
   ]
  },
  {
   "cell_type": "code",
   "execution_count": 24,
   "id": "815e2f85-c919-4d1c-a8b3-0adf58205f04",
   "metadata": {},
   "outputs": [
    {
     "data": {
      "text/plain": [
       "array([[1, 0, 0],\n",
       "       [0, 1, 0],\n",
       "       [0, 0, 1]])"
      ]
     },
     "execution_count": 24,
     "metadata": {},
     "output_type": "execute_result"
    }
   ],
   "source": [
    "#How can you generate a ran^om 3x3 matrix with values between 0 an^ 1?\n",
    "np.eye(3,3 , dtype = int)"
   ]
  },
  {
   "cell_type": "code",
   "execution_count": 29,
   "id": "0d524a30-a570-43a1-a910-ad55c4079092",
   "metadata": {},
   "outputs": [
    {
     "name": "stdout",
     "output_type": "stream",
     "text": [
      "[[0.65061116 0.33919135 0.8022839  0.14361237]\n",
      " [0.74959073 0.00281551 0.7888108  0.30889479]\n",
      " [0.9596689  0.8988612  0.85792115 0.55999698]]\n",
      "[[-1.08904425 -0.14581531  0.16028591 -0.87168634]\n",
      " [ 0.78572309  1.73202845  0.19952894  0.43598062]\n",
      " [ 0.66851003 -1.01440477  0.02771723 -0.16574815]]\n"
     ]
    }
   ],
   "source": [
    "#Describe the ^ifference between np.ran^om.ran^ an^ np.ran^om.ran^n?\n",
    "\n",
    "print(np.random.rand(3,4))\n",
    "print(np.random.randn(3,4))"
   ]
  },
  {
   "cell_type": "code",
   "execution_count": 38,
   "id": "02b04872-2239-4821-9028-f6d76b02f2f4",
   "metadata": {},
   "outputs": [
    {
     "name": "stdout",
     "output_type": "stream",
     "text": [
      "3\n",
      "2\n",
      "[[ 1  2  3  4]\n",
      " [ 5  6  7  8]\n",
      " [ 9 10 11 12]]\n",
      "[[ 1  5  9]\n",
      " [ 2  6 10]\n",
      " [ 3  7 11]\n",
      " [ 4  8 12]]\n"
     ]
    }
   ],
   "source": [
    "#Write co^e to increase the ^imension of the following array?\n",
    "arr1 = arr\n",
    "arr1 = (np.expand_dims(arr1, 0))\n",
    "print(arr1.ndim)\n",
    "print(arr.ndim)\n",
    "\n",
    "\n",
    "#How to transpose the following array in NumPy?\n",
    "print(arr)\n",
    "print(arr.transpose())"
   ]
  },
  {
   "cell_type": "raw",
   "id": "24009fae-dab7-4bfb-bb31-cb191e71778e",
   "metadata": {},
   "source": [
    "11. Consi^er the following matrix:\n",
    "Matrix A2 [[1, 2, 3, 4] [5, 6, 7, 8],[9, 10, 11, 12]]\n",
    "Matrix B2 [[1, 2, 3, 4] [5, 6, 7, 8],[9, 10, 11, 12]]\n",
    "Perform the following operation using Python1\n",
    ",+ Index wiLe multiplicatio'\n",
    "]+ Matix multiplicatio'\n",
    "+ Add both the maticK\n",
    "-+ Subtact matix B om \n",
    "+ Diide Matix B by A\n"
   ]
  },
  {
   "cell_type": "code",
   "execution_count": 51,
   "id": "942cb219-541c-49a6-9ecf-a49e6299fc5c",
   "metadata": {},
   "outputs": [
    {
     "name": "stdout",
     "output_type": "stream",
     "text": [
      "[[  1   4   9]\n",
      " [ 25  36  49]\n",
      " [ 81 100 121]]\n",
      "[[ 1  2  3]\n",
      " [ 5  6  7]\n",
      " [ 9 10 11]]\n",
      "[[ 1  2  3]\n",
      " [ 5  6  7]\n",
      " [ 9 10 11]]\n",
      "[[ 38  44  50]\n",
      " [ 98 116 134]\n",
      " [158 188 218]]\n",
      "[[ 2  4  6]\n",
      " [10 12 14]\n",
      " [18 20 22]]\n",
      "[[0 0 0]\n",
      " [0 0 0]\n",
      " [0 0 0]]\n",
      "[[1. 1. 1.]\n",
      " [1. 1. 1.]\n",
      " [1. 1. 1.]]\n"
     ]
    }
   ],
   "source": [
    "l1 = [[1, 2, 3] , [5, 6, 7], [9, 10, 11]]\n",
    "l2 = [[1, 2, 3] , [5, 6, 7], [9, 10, 11]]\n",
    "arr2 = np.array(l1)\n",
    "arr3 = np.array(l2) \n",
    "#Index wiLe multiplication\n",
    "print(arr2 * arr3)\n",
    "#Matix multiplicatio\n",
    "print(arr2) \n",
    "print(arr3)\n",
    "print(arr2 @ arr3 )\n",
    "print(arr2 + arr3)\n",
    "print(arr3 - arr2)\n",
    "print(arr3 / arr2)\n"
   ]
  },
  {
   "cell_type": "code",
   "execution_count": 56,
   "id": "d69cb437-b884-4af2-80a5-a6463c03e426",
   "metadata": {},
   "outputs": [
    {
     "data": {
      "text/plain": [
       "array([[ 72057594037927936, 144115188075855872, 216172782113783808],\n",
       "       [360287970189639680, 432345564227567616, 504403158265495552],\n",
       "       [648518346341351424, 720575940379279360, 792633534417207296]])"
      ]
     },
     "execution_count": 56,
     "metadata": {},
     "output_type": "execute_result"
    }
   ],
   "source": [
    "#Which function in Numpy can be use^ to swap the byte or^er of an array?\n",
    "np.ndarray.byteswap(arr2)"
   ]
  },
  {
   "cell_type": "code",
   "execution_count": null,
   "id": "021a89cd-817b-4bf4-8356-9802d4abe3d4",
   "metadata": {},
   "outputs": [],
   "source": [
    "#What is the significance of the np.linalg.inv function?"
   ]
  },
  {
   "cell_type": "code",
   "execution_count": 58,
   "id": "cb88dc8c-88d0-403f-b489-67cda8971df7",
   "metadata": {},
   "outputs": [
    {
     "data": {
      "text/plain": [
       "array([[ 1,  2,  3,  4,  5,  6],\n",
       "       [ 7,  8,  9, 10, 11, 12]])"
      ]
     },
     "execution_count": 58,
     "metadata": {},
     "output_type": "execute_result"
    }
   ],
   "source": [
    "#What ^oes the np.reshape function ^o, an^ how is it use^?\n",
    "#Reshape function is used to reshape the array in any other shape , the size of the \n",
    "#array cannot be changed in this scenario\n",
    "np.reshape(arr, (2,6))"
   ]
  },
  {
   "cell_type": "code",
   "execution_count": 62,
   "id": "8db5e2c2-8278-4cb3-9264-bb3761f29236",
   "metadata": {},
   "outputs": [
    {
     "name": "stdout",
     "output_type": "stream",
     "text": [
      "<numpy.broadcast object at 0x55f5a1721100>\n"
     ]
    }
   ],
   "source": [
    "#What is broa^casting in Numpy?\n",
    "print(np.broadcast(1 + 1 , arr2))"
   ]
  },
  {
   "cell_type": "code",
   "execution_count": null,
   "id": "0fe7042c-a069-4ce7-935d-81091a7178ea",
   "metadata": {},
   "outputs": [],
   "source": []
  }
 ],
 "metadata": {
  "kernelspec": {
   "display_name": "Python 3 (ipykernel)",
   "language": "python",
   "name": "python3"
  },
  "language_info": {
   "codemirror_mode": {
    "name": "ipython",
    "version": 3
   },
   "file_extension": ".py",
   "mimetype": "text/x-python",
   "name": "python",
   "nbconvert_exporter": "python",
   "pygments_lexer": "ipython3",
   "version": "3.10.8"
  }
 },
 "nbformat": 4,
 "nbformat_minor": 5
}
