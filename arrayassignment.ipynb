{
 "cells": [
  {
   "cell_type": "code",
   "execution_count": 1,
   "id": "148e567c-1276-45a7-87ba-da842eb74fa9",
   "metadata": {},
   "outputs": [
    {
     "name": "stdout",
     "output_type": "stream",
     "text": [
      "Array contain Duplicate value\n"
     ]
    }
   ],
   "source": [
    "#1. Given an array, check if it contains any duplicates or not.\n",
    "''' To achive this we first check the lenth of the array , then convert the arr\n",
    "ay in set to remove any duplicate elements, then reconvert the set in list and \n",
    "check the lenth if its not equal it means it has duplicate Value'''\n",
    "\n",
    "#function\n",
    "def chckdup(arr5) :\n",
    "\n",
    "    arr5len = len(arr5) \n",
    "    set1 = set(arr5) \n",
    "    arr5 = list(set1) \n",
    "    if arr5len != len(arr5) :\n",
    "        print(\"Array contain Duplicate value\") \n",
    "\n",
    "#Driver code \n",
    "arr5 = [1, 2, 4, 2, 5, 9]\n",
    "chckdup(arr5)"
   ]
  },
  {
   "cell_type": "code",
   "execution_count": 2,
   "id": "95817c18-95b6-4f1a-8ffb-a7e41ddbba95",
   "metadata": {},
   "outputs": [
    {
     "name": "stdout",
     "output_type": "stream",
     "text": [
      "7\n",
      "3\n",
      "5 6 7 1 2 3 4 \n",
      "\n"
     ]
    }
   ],
   "source": [
    "#2. Given an array and an integer k, rotate the array to the right by k steps.\n",
    "# arr = [1, 2, 3, 4, 5, 6, 7] k = 3\n",
    "# Output = [5, 6, 7, 1, 2, 3, 4]\n",
    "\n",
    "# Python3 implementation of right rotation \n",
    "# of an array K number of times\n",
    "\n",
    "''' To do so , we first check if the rotation is greater than the size of array \n",
    "    and then the k value as Modulo , then until i < k we go on printing the \n",
    "    (n + i - k ) once i > K we keep the values as it is '''\n",
    "\n",
    "# Function to rightRotate array\n",
    "def RightRotate(a,k):\n",
    " \n",
    "    # If rotation is greater \n",
    "    # than size of array\n",
    "    n = len(a);\n",
    "    print(n)\n",
    "    k = k % n ;\n",
    "    print(k)\n",
    "    for i in range(0, n):\n",
    " \n",
    "        if(i < k):\n",
    " \n",
    "            # Printing rightmost \n",
    "            # kth elements\n",
    "            print(a[n + i - k], end = \" \");\n",
    " \n",
    "        else:\n",
    " \n",
    "            # Prints array after\n",
    "            # 'k' elements\n",
    "            print(a[i - k], end = \" \");\n",
    " \n",
    "    print(\"\\n\");\n",
    " \n",
    "# Driver code\n",
    "Array = [1, 2, 3, 4, 5, 6, 7];\n",
    "K = 3;\n",
    "     \n",
    "RightRotate(Array,K);\n"
   ]
  },
  {
   "cell_type": "code",
   "execution_count": 5,
   "id": "1c30a6f6-0c03-49cf-a8dc-da9d7ea6ccc1",
   "metadata": {},
   "outputs": [
    {
     "name": "stdout",
     "output_type": "stream",
     "text": [
      "6\n",
      "[12, 9, 7, 5, 4, 2]\n"
     ]
    }
   ],
   "source": [
    "#3. Reverse the given array in-place, means without using any extra \n",
    "# data structure.\n",
    "#arr = [2, 4, 5, 7, 9, 12]\n",
    "#Output = [12, 9, 7, 5, 4, 2]\n",
    "''' To do this we take the length of the array and store in in the variable to \n",
    "    to avoid working on dynamic lenth , then we insert the last element at 0th \n",
    "    index and delete the last element by using len1 as the index \n",
    "    as the last index is always len - 1 , but as we have added the first element \n",
    "    now the last index become len '''\n",
    "\n",
    "def reversal(arr1) : \n",
    "    \n",
    "    #store the lenth of arr1 in \n",
    "    len1 = len(arr1) \n",
    "    print(len1)\n",
    "    i = 0\n",
    "    #loop all the elements in the array \n",
    "    while i < len1 :\n",
    "        #insert at the 0th index and use the last element  \n",
    "        arr1.insert(i ,arr1[len1 - 1] ) \n",
    "        #delete the inserted element \n",
    "        arr1.pop(len1)\n",
    "        i = i  + 1 \n",
    "    print(arr1)\n",
    "\n",
    "arr = [2, 4, 5, 7, 9, 12]    \n",
    "reversal(arr)"
   ]
  },
  {
   "cell_type": "code",
   "execution_count": null,
   "id": "c6e294e2-65c0-43d5-b05b-d7f5605c4b9d",
   "metadata": {},
   "outputs": [],
   "source": [
    "#Given an array of integers, find the maximum element in an array"
   ]
  },
  {
   "cell_type": "code",
   "execution_count": 7,
   "id": "514a4cee-4139-4727-9d7d-c3d659d353fd",
   "metadata": {},
   "outputs": [
    {
     "name": "stdout",
     "output_type": "stream",
     "text": [
      "20\n"
     ]
    }
   ],
   "source": [
    "# importing functools for reduce() \n",
    "''' Here we used the reduce and lambda to get the maximum from the list '''\n",
    "import functools \n",
    "lis = [10, 5, 20, 8, 15]\n",
    "print(functools.reduce(lambda a, b: a if a > b else b, lis))"
   ]
  },
  {
   "cell_type": "code",
   "execution_count": 39,
   "id": "8cde96f1-23d1-4e34-a0cd-c91350401c77",
   "metadata": {},
   "outputs": [
    {
     "name": "stdout",
     "output_type": "stream",
     "text": [
      "[1, 2, 3, 4, 5]\n"
     ]
    }
   ],
   "source": [
    "#Given a sorted array, \n",
    "#remove the duplicate element without using any extra data structure.\n",
    "\n",
    "\n",
    "#To do this we take 2 loops i and j\n",
    "# i starting from 0 and j starting from 1 \n",
    "# ith index element is compared with all the Jth i;e starting from 1 to n \n",
    "# where n is the len of the array , if found equal that particular element should\n",
    "# be removed and lenth should be reduced by 1 to avoid out of context error\n",
    "arr = [1, 1, 2, 2, 2, 3, 3, 4, 4, 4, 5, 5]\n",
    "\n",
    "#Output = [1, 2, 3, 4, 5]\n",
    "\n",
    "def removeitem(arr) : \n",
    "    len1 = len(arr)\n",
    "    i = 0 \n",
    "    j = 1\n",
    "    \n",
    "    while i < len1 : \n",
    "        \n",
    "        j = 1\n",
    "        while j < len1   :\n",
    "            \n",
    "            \n",
    "            if arr[i] == arr[j] :\n",
    "                \n",
    "                arr.pop(j)\n",
    "                len1 = len1 - 1\n",
    "                 \n",
    "            j = j + 1 \n",
    "        i = i + 1 \n",
    "    print(arr)\n",
    "\n",
    "removeitem(arr)\n"
   ]
  },
  {
   "cell_type": "code",
   "execution_count": 38,
   "id": "ecc4024e-47e3-46f6-9e18-9981d0702259",
   "metadata": {},
   "outputs": [
    {
     "data": {
      "text/plain": [
       "[0, 2, 4, 6, 8, 10]"
      ]
     },
     "execution_count": 38,
     "metadata": {},
     "output_type": "execute_result"
    }
   ],
   "source": [
    "arr"
   ]
  },
  {
   "cell_type": "code",
   "execution_count": null,
   "id": "e44aa470-4314-4167-933b-6fea37e844d9",
   "metadata": {},
   "outputs": [],
   "source": []
  }
 ],
 "metadata": {
  "kernelspec": {
   "display_name": "Python 3 (ipykernel)",
   "language": "python",
   "name": "python3"
  },
  "language_info": {
   "codemirror_mode": {
    "name": "ipython",
    "version": 3
   },
   "file_extension": ".py",
   "mimetype": "text/x-python",
   "name": "python",
   "nbconvert_exporter": "python",
   "pygments_lexer": "ipython3",
   "version": "3.10.8"
  }
 },
 "nbformat": 4,
 "nbformat_minor": 5
}
