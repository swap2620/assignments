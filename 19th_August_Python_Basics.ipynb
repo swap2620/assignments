{
 "cells": [
  {
   "cell_type": "code",
   "execution_count": 10,
   "id": "d7347cc5-19b4-44d0-bcc8-ad71f9b64326",
   "metadata": {},
   "outputs": [
    {
     "name": "stdout",
     "output_type": "stream",
     "text": [
      "20\n",
      "40\n",
      "20\n",
      "40\n"
     ]
    }
   ],
   "source": [
    "# Python Basics Variable Question 1\n",
    "# initialization \n",
    "x = 20 \n",
    "y = 40 \n",
    "print(x)\n",
    "print(y)\n",
    "\n",
    "# logic to interchange the value\n",
    "x = x + y \n",
    "y = x - y \n",
    "x = x - y\n",
    "print(y)\n",
    "print(x)"
   ]
  },
  {
   "cell_type": "code",
   "execution_count": 19,
   "id": "9222253b-78d7-4977-b6b7-036cf45bcfbf",
   "metadata": {},
   "outputs": [
    {
     "name": "stdin",
     "output_type": "stream",
     "text": [
      "Lenth of rectangle 22.3\n",
      "Width of rectangke 33.1\n"
     ]
    },
    {
     "name": "stdout",
     "output_type": "stream",
     "text": [
      "area of rectangle  738.1300000000001\n"
     ]
    }
   ],
   "source": [
    "# Python Basics Variable Question 2\n",
    "#intialization and logic\n",
    "length = float(input(\"Lenth of rectangle\"))\n",
    "width  = float(input(\"Width of rectangke\"))\n",
    "area = length * width \n",
    "print(\"area of rectangle \" , area)"
   ]
  },
  {
   "cell_type": "code",
   "execution_count": 21,
   "id": "b9addf67-e3fc-48bf-92fa-6bd1fb269bd5",
   "metadata": {},
   "outputs": [
    {
     "name": "stdin",
     "output_type": "stream",
     "text": [
      "Temp in celsuis 32\n"
     ]
    },
    {
     "name": "stdout",
     "output_type": "stream",
     "text": [
      "Temp in fahrenheit  89.6\n"
     ]
    }
   ],
   "source": [
    "#Python Basics Variable Question 3\n",
    "#intialization and logic\n",
    "cel = float(input(\"Temp in celsuis\"))\n",
    "far = cel * 9/5 + 32 \n",
    "print(\"Temp in fahrenheit \",far)\n"
   ]
  },
  {
   "cell_type": "code",
   "execution_count": 24,
   "id": "6b2c1886-abc9-4d7b-806f-ce55b38b5413",
   "metadata": {},
   "outputs": [
    {
     "name": "stdin",
     "output_type": "stream",
     "text": [
      "Please enter a string India is my country\n"
     ]
    },
    {
     "name": "stdout",
     "output_type": "stream",
     "text": [
      "lenth of string is  19\n"
     ]
    }
   ],
   "source": [
    "#String Based Questions Question 1\n",
    "str1 = input(\"Please enter a string\")\n",
    "print(\"lenth of string is \" ,len(str1))"
   ]
  },
  {
   "cell_type": "code",
   "execution_count": 27,
   "id": "e22d638d-7dee-4717-89f5-c72d2b986b56",
   "metadata": {},
   "outputs": [
    {
     "name": "stdin",
     "output_type": "stream",
     "text": [
      "Please input a string country\n"
     ]
    },
    {
     "name": "stdout",
     "output_type": "stream",
     "text": [
      "country\n",
      "yrtnuoc\n"
     ]
    }
   ],
   "source": [
    "#String Based Questions Question 3\n",
    "str2 = input(\"Please input a string\")\n",
    "print(str2)\n",
    "print(str2[::-1])"
   ]
  },
  {
   "cell_type": "code",
   "execution_count": 34,
   "id": "a656a7ec-a57a-4ecc-8390-f4217fd0f8ee",
   "metadata": {},
   "outputs": [
    {
     "name": "stdin",
     "output_type": "stream",
     "text": [
      "Please input a string deed\n"
     ]
    },
    {
     "name": "stdout",
     "output_type": "stream",
     "text": [
      "Palindrone\n"
     ]
    }
   ],
   "source": [
    "#String Based Questions Question 4\n",
    "str2 = input(\"Please input a string\")\n",
    "if str2 == str2[::-1] :\n",
    "   print(\"Palindrone\")\n",
    "else :\n",
    "   print(\"Non Palindrone\")"
   ]
  },
  {
   "cell_type": "code",
   "execution_count": 42,
   "id": "1e694ca1-2826-4533-91bc-2108587a471a",
   "metadata": {},
   "outputs": [
    {
     "name": "stdin",
     "output_type": "stream",
     "text": [
      "Please enter a string Space removal   sentence\n"
     ]
    },
    {
     "name": "stdout",
     "output_type": "stream",
     "text": [
      "lenth of string is  Spaceremovalsentence\n"
     ]
    }
   ],
   "source": [
    "#String Based Questions Question 5\n",
    "str1 = input(\"Please enter a string\")\n",
    "print(\"lenth of string is \" ,(str1.replace(\" \", \"\")))"
   ]
  },
  {
   "cell_type": "code",
   "execution_count": null,
   "id": "dd4c8651-1d27-4d0a-bdb9-e8ce59eea9c0",
   "metadata": {},
   "outputs": [],
   "source": []
  }
 ],
 "metadata": {
  "kernelspec": {
   "display_name": "Python 3 (ipykernel)",
   "language": "python",
   "name": "python3"
  },
  "language_info": {
   "codemirror_mode": {
    "name": "ipython",
    "version": 3
   },
   "file_extension": ".py",
   "mimetype": "text/x-python",
   "name": "python",
   "nbconvert_exporter": "python",
   "pygments_lexer": "ipython3",
   "version": "3.10.8"
  }
 },
 "nbformat": 4,
 "nbformat_minor": 5
}
