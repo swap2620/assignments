{
 "cells": [
  {
   "cell_type": "code",
   "execution_count": 30,
   "id": "e6eb9a5e-2c45-40f7-9a98-0b70cb413668",
   "metadata": {},
   "outputs": [],
   "source": [
    "'''Problem 1: Bank Account Create a class representing a bank \n",
    "account with attributes like account number, account holder name, \n",
    "and balance. Implement methods to deposit and withdraw money from the account.'''\n",
    "import logging as log \n",
    "log.basicConfig(filename = 'logbank.log' , level = log.DEBUG, format = '%(asctime)s - %(levelname)s - %(message)s')\n",
    "class bankacct() :\n",
    "    \n",
    "    def __init__(self, accountnumber, accountholdername, sbal) : \n",
    "        self.acctnum = accountnumber \n",
    "        self.acctname = accountholdername\n",
    "        self.cbal     = sbal\n",
    "        log.info(\" Mr %s has open Account with account number %s and intiall balance as %s \",  self.acctname , self.acctnum , self.cbal)\n",
    "        \n",
    "    def deposit(self , depositmoney ) :\n",
    "        try : \n",
    "            log.info(\"Mr %s has deposited %s in his account %s \" , self.acctname , depositmoney , self.acctnum)\n",
    "            self.cbal = self.cbal + depositmoney\n",
    "            log.info(\"Current balance now is %s\" ,self.cbal) \n",
    "            \n",
    "        except Exception as e :\n",
    "            log.error(e)\n",
    "    \n",
    "    def withdraw(self , withdrawmoney ) :\n",
    "        try : \n",
    "            log.info(\"Mr %s want to withdraw  %s from his account %s current balcne is %s \" , self.acctname , withdrawmoney , self.acctnum, self.cbal)\n",
    "            #log.info(\"subtracion %s\", (self.cbal - withdrawmoney))\n",
    "            if (self.cbal - withdrawmoney) < 0 :\n",
    "                raise ZeroDivisionError(\"Withdrawal unsuccessful as balance is low\")\n",
    "            else :\n",
    "                self.cbal = self.cbal - withdrawmoney\n",
    "                log.info(\"Current balance %s \" ,self.cbal) \n",
    "            \n",
    "        except Exception as e :\n",
    "            log.error(e)\n",
    "    \n",
    "    def checkbal(self ) :\n",
    "        log.info(\"Mr %s with account %s has %s balance\" , self.acctname , self.acctnum, self.cbal)\n",
    "            \n",
    "        "
   ]
  },
  {
   "cell_type": "code",
   "execution_count": 32,
   "id": "19ffbe85-2cba-4494-ab3f-865ec80149cc",
   "metadata": {},
   "outputs": [],
   "source": [
    "swapnil = bankacct(\"A1234\", \"Swapnil Mane\" , 1000)\n",
    "swapnil.checkbal()\n",
    "swapnil.deposit(200)\n",
    "swapnil.withdraw(500)\n",
    "swapnil.checkbal()\n",
    "swapnil.withdraw(800)"
   ]
  },
  {
   "cell_type": "code",
   "execution_count": 17,
   "id": "033ed80a-b122-42dd-8c30-d768de925b0a",
   "metadata": {},
   "outputs": [],
   "source": [
    "sudh = bankacct(\"A1235\" ,\"Sudh\" , 2000)\n",
    "sudh.checkbal()\n",
    "sudh.deposit(200)\n",
    "sudh.withdraw(500)\n",
    "sudh.checkbal()\n",
    "sudh.withdraw(700)"
   ]
  },
  {
   "cell_type": "code",
   "execution_count": 47,
   "id": "3235854e-da13-41e3-b235-d55c86ecb6a0",
   "metadata": {},
   "outputs": [],
   "source": [
    "'''Problem 2: Employee Management Create a class representing an employee with attributes like \n",
    "employee ID, name, and salary. Implement methods to calculate the yearly bonus and display employee\n",
    "details.'''\n",
    "\n",
    "import logging as log \n",
    "log.basicConfig(filename = 'logbank.log' , level = log.DEBUG, format = '%(asctime)s - %(levelname)s - %(message)s')\n",
    "class employee() :\n",
    "    def __init__(self , empid , empname ) : \n",
    "        self.empid = empid \n",
    "        self.empname = empname \n",
    "        self.bonuspercentage = 0.1\n",
    "    def empdetails(self) :\n",
    "        log.info(\"Employee ID is %s and EmployeeName is %s\", self.empid , self.empname)\n",
    "    \n",
    "    def empbonus(self ,salary) : \n",
    "        log.info(\"Employee Bonus for the year is %s\" , (salary * self.bonuspercentage ))\n"
   ]
  },
  {
   "cell_type": "code",
   "execution_count": 48,
   "id": "37d6dc4f-dbe3-4103-bd84-51205377de25",
   "metadata": {},
   "outputs": [],
   "source": [
    "mahesh = employee(\"1234\" , \"Mahesh\" )\n",
    "mahesh.empdetails()\n",
    "mahesh.empbonus(500000)"
   ]
  },
  {
   "cell_type": "code",
   "execution_count": 19,
   "id": "e0a5e411-3ad2-4cd5-8fd8-92c59cb52b1d",
   "metadata": {},
   "outputs": [],
   "source": [
    "#Problem 3 \n",
    "\n",
    "class rentacar() : \n",
    "    \n",
    "    def __init__(self) : \n",
    "        self.cars = {\"Wagnor\" , \"Ertiga\" , \"Swift\" , \"Alto\" }\n",
    "    \n",
    "    def rentcar(self, carname) : \n",
    "        if carname in self.cars  : \n",
    "            print(\"Car is available for rent\") \n",
    "            self.cars.remove(carname)\n",
    "        else : \n",
    "            print(\"Car is not available at this moment\")\n",
    "    def returncar(self , carname) : \n",
    "        self.cars.add(carname)\n",
    "    \n",
    "    def carlist(self ) :\n",
    "        print(self.cars)"
   ]
  },
  {
   "cell_type": "code",
   "execution_count": 22,
   "id": "f155c83d-b9b1-4758-8c0a-e051c5ebb2db",
   "metadata": {},
   "outputs": [
    {
     "name": "stdout",
     "output_type": "stream",
     "text": [
      "Car is available for rent\n",
      "Car is not available at this moment\n",
      "{'Swift', 'Alto', 'Wagnor', 'Ertiga'}\n"
     ]
    }
   ],
   "source": [
    "sm = rentacar()\n",
    "sm.rentcar(\"Ertiga\")\n",
    "sm.rentcar(\"Ertiga\")\n",
    "sm.returncar(\"Ertiga\")\n",
    "sm.returncar(\"Ertiga\")\n",
    "sm.carlist()"
   ]
  },
  {
   "cell_type": "code",
   "execution_count": 27,
   "id": "701b4ac4-e709-44dc-bff9-3c1577d8287b",
   "metadata": {},
   "outputs": [],
   "source": [
    "#Problem 4\n",
    "\n",
    "class libary() : \n",
    "    \n",
    "    def __init__(self) : \n",
    "        self.books = {\"DS\" , \"2states\" , \"C++\" , \"RichDad Poor Dad\"  }\n",
    "    \n",
    "    def addbook(self, bookname) : \n",
    "        self.books.add(bookname)\n",
    "        \n",
    "        \n",
    "    def borrowbook(self , bookname) : \n",
    "        if bookname in self.books  : \n",
    "            print(\"book is available for rent\") \n",
    "            self.books.remove(bookname)\n",
    "        else : \n",
    "            print(\"book is not available at this moment\")\n",
    "    \n",
    "    def booklist(self ) :\n",
    "        print(self.books)\n",
    "        \n",
    "        "
   ]
  },
  {
   "cell_type": "code",
   "execution_count": 28,
   "id": "82401b3f-f724-4d23-b958-2c8fb45e0742",
   "metadata": {},
   "outputs": [
    {
     "name": "stdout",
     "output_type": "stream",
     "text": [
      "{'DS', 'C++', '2states', 'RichDad Poor Dad', 'English'}\n",
      "book is available for rent\n",
      "{'DS', 'C++', '2states', 'RichDad Poor Dad'}\n"
     ]
    }
   ],
   "source": [
    "sm1 = libary()\n",
    "sm1.addbook(\"English\")\n",
    "sm1.booklist()\n",
    "sm1.borrowbook(\"English\")\n",
    "sm1.booklist()"
   ]
  },
  {
   "cell_type": "code",
   "execution_count": 38,
   "id": "04ad71e1-44ef-4ea0-ae42-277beac29448",
   "metadata": {},
   "outputs": [],
   "source": [
    "#Problem 5 \n",
    "class prodinv() : \n",
    "    \n",
    "    def __init__(self) : \n",
    "        self.inv = { \"Gears\" : 20 , \"Clutch\" : 40 , \"bonet\" : 34 , \"seat\" : 10  }\n",
    "    \n",
    "    def addmodprod(self, **prodadd ) : \n",
    "        self.inv.update(prodadd)\n",
    "    \n",
    "    def getProdlist(self) :\n",
    "        print(self.inv)\n"
   ]
  },
  {
   "cell_type": "code",
   "execution_count": 41,
   "id": "4fa0937f-ecf7-4d5d-a3e5-9ed07851ebbd",
   "metadata": {},
   "outputs": [
    {
     "name": "stdout",
     "output_type": "stream",
     "text": [
      "{'Gears': 20, 'Clutch': 40, 'bonet': 34, 'seat': 10}\n",
      "{'Gears': 20, 'Clutch': 40, 'bonet': 34, 'seat': 10, 'brake': 20, 'oil': 30}\n",
      "{'Gears': 20, 'Clutch': 40, 'bonet': 34, 'seat': 10, 'brake': 60, 'oil': 30, 'coolant': 70}\n"
     ]
    }
   ],
   "source": [
    "sinv = prodinv()\n",
    "sinv.getProdlist()\n",
    "sinv.addmodprod(brake = 20 , oil = 30)\n",
    "sinv.getProdlist()\n",
    "sinv.addmodprod(brake = 60 , coolant = 70 )\n",
    "sinv.getProdlist()"
   ]
  },
  {
   "cell_type": "code",
   "execution_count": 47,
   "id": "e38baee5-2920-49f9-9130-27588a7775d1",
   "metadata": {},
   "outputs": [
    {
     "name": "stdout",
     "output_type": "stream",
     "text": [
      "Perimeter is 14\n",
      "Area is 35 \n"
     ]
    }
   ],
   "source": [
    "#P = (L + W) × 2,\n",
    "#A = L * W \n",
    "#Problem 6 \n",
    "class rectangele() :\n",
    "    \n",
    "    def perimter(self, lenth , width ) : \n",
    "        return ((lenth + width) * 2 )\n",
    "    def area(self , lenth , width ) : \n",
    "        return (lenth * width )\n",
    "\n",
    "s2 = rectangele() \n",
    "s3 = s2.perimter(3,4)\n",
    "print(f\"Perimeter is %s\" % s3) \n",
    "s3 = s2.area(5,7) \n",
    "print(f\"Area is %s \"  % s3)\n"
   ]
  },
  {
   "cell_type": "code",
   "execution_count": 82,
   "id": "2abaacc0-bf3e-4907-8466-11719d8935a3",
   "metadata": {},
   "outputs": [],
   "source": [
    "# Problem 7 \n",
    "\n",
    "class student() : \n",
    "    \n",
    "    def __init__(self) : \n",
    "        self.studentlist = { \"ID\" : (\"0001\" , \"0002\" , \"0003\") , \"Name\" : (\"Swapnil\" , \"Mahesh\" , \"Pratham\") ,\n",
    "                            \"Grade\" : [50,60,80]  }\n",
    "        self.s2 = (self.studentlist[\"ID\"])\n",
    "        self.s3 = (self.studentlist[\"Name\"]) \n",
    "        self.s4 = (self.studentlist[\"Grade\"])\n",
    "    def studdetails(self, sid ) : \n",
    "        if sid in self.s2 : \n",
    "            indx1 = s2.index(sid)\n",
    "            name = s3[indx1] \n",
    "            print(\"Name %s \" %name )\n",
    "    def avegagegrade(self) :\n",
    "        print( sum(s4) / len(s4) )\n"
   ]
  },
  {
   "cell_type": "code",
   "execution_count": 76,
   "id": "31fadbb5-52e9-4747-a583-c1ce95cd710a",
   "metadata": {},
   "outputs": [
    {
     "name": "stdout",
     "output_type": "stream",
     "text": [
      "('0001', '0002', '0003')\n",
      "Name Swapnil \n"
     ]
    }
   ],
   "source": [
    "dict1 = { \"ID\" : (\"0001\" , \"0002\" , \"0003\" ) , \"Name\" : (\"Swapnil\" , \"Mahesh\" , \"Pratham\") ,\n",
    "                            \"Grade\" : [50,60,80]  }\n",
    "s2 = (dict1[\"ID\"])\n",
    "s3 = (dict1[\"Name\"]) \n",
    "s4 = (dict1[\"Grade\"])\n",
    "print(s2)\n",
    "if \"0001\" in s2 : \n",
    "    indx1 = s2.index(\"0001\")\n",
    "    name = s3[indx1] \n",
    "    print(\"Name %s \" %name )"
   ]
  },
  {
   "cell_type": "code",
   "execution_count": 83,
   "id": "4da72be0-8ceb-4100-ae61-4647ac693126",
   "metadata": {},
   "outputs": [
    {
     "name": "stdout",
     "output_type": "stream",
     "text": [
      "Name Mahesh \n",
      "63.333333333333336\n"
     ]
    }
   ],
   "source": [
    "sm2 = student()\n",
    "sm2.studdetails(\"0002\")\n",
    "sm2.avegagegrade()"
   ]
  },
  {
   "cell_type": "code",
   "execution_count": null,
   "id": "360ea6cb-a65a-49e3-bc1a-4c86273d4aee",
   "metadata": {},
   "outputs": [],
   "source": []
  }
 ],
 "metadata": {
  "kernelspec": {
   "display_name": "Python 3 (ipykernel)",
   "language": "python",
   "name": "python3"
  },
  "language_info": {
   "codemirror_mode": {
    "name": "ipython",
    "version": 3
   },
   "file_extension": ".py",
   "mimetype": "text/x-python",
   "name": "python",
   "nbconvert_exporter": "python",
   "pygments_lexer": "ipython3",
   "version": "3.10.8"
  }
 },
 "nbformat": 4,
 "nbformat_minor": 5
}
