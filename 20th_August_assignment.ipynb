{
 "cells": [
  {
   "cell_type": "code",
   "execution_count": 1,
   "id": "74584014-08ea-4098-8978-b0a0419786c8",
   "metadata": {},
   "outputs": [
    {
     "data": {
      "text/plain": [
       "'ytnuoc ym si aidnI'"
      ]
     },
     "execution_count": 1,
     "metadata": {},
     "output_type": "execute_result"
    }
   ],
   "source": [
    "#String Based Assignment Problem 1\n",
    "\n",
    "str1 = \"India is my county\" \n",
    "str1[::-1]"
   ]
  },
  {
   "cell_type": "code",
   "execution_count": 2,
   "id": "2c24f294-05be-4fe4-a053-58b359b48f99",
   "metadata": {},
   "outputs": [
    {
     "name": "stdin",
     "output_type": "stream",
     "text": [
      "Please input a string madam\n"
     ]
    },
    {
     "name": "stdout",
     "output_type": "stream",
     "text": [
      "Palindrone\n"
     ]
    }
   ],
   "source": [
    "#String Based Assignment Problem 2\n",
    "str2 = input(\"Please input a string\")\n",
    "if str2 == str2[::-1] :\n",
    "   print(\"Palindrone\")\n",
    "else :\n",
    "   print(\"Non Palindrone\")"
   ]
  },
  {
   "cell_type": "code",
   "execution_count": 3,
   "id": "0c1b7578-9347-4b5c-9ef0-677b120cd94e",
   "metadata": {},
   "outputs": [
    {
     "name": "stdout",
     "output_type": "stream",
     "text": [
      "INDIA IS MY COUNTY\n",
      "india is my county\n",
      "Vowels are  6\n",
      "Consonate are  12\n",
      "Count is  18\n",
      "Indiaismycounty\n"
     ]
    }
   ],
   "source": [
    "#String Based Assignment Problem 3\n",
    "print(str1.upper())\n",
    "#String Based Assignment Problem 4 , 5 ,6 AND 8 \n",
    "print(str1.lower())\n",
    "vow = 0 \n",
    "cons = 0 \n",
    "count = 0 \n",
    "for i in str1 :\n",
    "    count  = count + 1\n",
    "    if ( i=='a' or i=='e' or i=='i' or i=='o' or i=='u' or i=='A' or i=='E' or i=='I' or i=='O' or i=='U' ) :\n",
    "       vow = vow + 1 \n",
    "    else :\n",
    "       cons = cons + 1 \n",
    "print(\"Vowels are \" , vow)\n",
    "print(\"Consonate are \", cons)\n",
    "print(\"Count is \", count)\n",
    "#String Based Assignment Problem 7\n",
    "print(str1.replace(\" \", \"\"))\n",
    "\n"
   ]
  },
  {
   "cell_type": "code",
   "execution_count": 4,
   "id": "25dd0bb3-6cf4-453f-b4b8-fc44b38555bc",
   "metadata": {},
   "outputs": [
    {
     "name": "stdin",
     "output_type": "stream",
     "text": [
      "String to search in 'India is my County' india\n"
     ]
    },
    {
     "name": "stdout",
     "output_type": "stream",
     "text": [
      "String Not Found\n"
     ]
    }
   ],
   "source": [
    "#String Based Assignment Problem 9\n",
    "str2 = input(\"String to search in 'India is my County'\")\n",
    "if str1.find(str2) == -1 : \n",
    "    print(\"String Not Found\") \n",
    "else :\n",
    "    print(\"String  found\") "
   ]
  },
  {
   "cell_type": "code",
   "execution_count": 5,
   "id": "a84be340-fe95-4982-b272-a316a7a55ac8",
   "metadata": {},
   "outputs": [
    {
     "name": "stdout",
     "output_type": "stream",
     "text": [
      "India is my county\n",
      "India is my Country\n",
      "2\n",
      "10\n",
      "18\n"
     ]
    }
   ],
   "source": [
    "#String Based Assignment Problem 10, 11,12,13\n",
    "print(str1)\n",
    "str2 = str1.replace(\"county\", \"Country\")\n",
    "print(str2)\n",
    "\n",
    "print(str2.count(i))\n",
    "print(str2.find(i))\n",
    "print(str2.rfind(i))"
   ]
  },
  {
   "cell_type": "code",
   "execution_count": 6,
   "id": "60a34b4c-3131-48df-8c09-dd809f64ccda",
   "metadata": {},
   "outputs": [
    {
     "data": {
      "text/plain": [
       "'India is my Country'"
      ]
     },
     "execution_count": 6,
     "metadata": {},
     "output_type": "execute_result"
    }
   ],
   "source": [
    "str2"
   ]
  },
  {
   "cell_type": "code",
   "execution_count": 7,
   "id": "b3d407a9-e46e-4c23-859b-99e6247fa3d7",
   "metadata": {},
   "outputs": [
    {
     "name": "stdout",
     "output_type": "stream",
     "text": [
      "['India', 'is', 'my', 'Country']\n",
      "India is my Country\n",
      "India_is_my_Country\n",
      "True\n",
      "False\n",
      "True\n",
      "False\n",
      "India Is My Country\n",
      "Country\n",
      "my\n",
      "India is my Country\n",
      "False\n"
     ]
    }
   ],
   "source": [
    "#String Based Assignment Problem 14, 15,16,17,18,19,20,21,23\n",
    "lst = (str2.split())\n",
    "str3 = \"\"\n",
    "i = 0\n",
    "print(lst)\n",
    "for i in lst :\n",
    "    if str3 == \"\" :\n",
    "        str3 = str3 + i\n",
    "    else :\n",
    "        str3 = str3 + \" \" + i \n",
    "print(str3)\n",
    "print(str3.replace(\" \",\"_\")) \n",
    "print(str3.startswith(\"India\"))\n",
    "print(str3.startswith(\"is\"))\n",
    "print(str3.endswith(\"try\"))\n",
    "print(str3.endswith(\"my\"))\n",
    "print(str3.title())\n",
    "\n",
    "lst = (sorted(lst , key = len))\n",
    "print(lst[-1])\n",
    "print(lst[+1])\n",
    "\n",
    "print(str3)\n",
    "lst1 = str3.split()\n",
    "print(str3.isalpha())\n",
    "      \n"
   ]
  },
  {
   "cell_type": "code",
   "execution_count": 8,
   "id": "cd173d45-b412-4ea8-9251-f72353b5e53c",
   "metadata": {},
   "outputs": [
    {
     "name": "stdout",
     "output_type": "stream",
     "text": [
      "False\n",
      "13\n",
      "list of digits ['10', '20', '3']\n",
      "list of alphabets ['There', 'are', 'apple', 'is', 'oranges', 'and', 'bananas', 'on', 'the', 'table']\n",
      "Alphabets in upper case  1\n",
      "Alphabets in lower casr  41\n",
      " tHERE ARE 10 APPLE IS 20 ORANGES AND 3 BANANAS ON THE TABLE\n",
      "  are 10 apple is 20 oranges and 3 bananas on the table\n"
     ]
    }
   ],
   "source": [
    "#String Based Assignment Problem 23,24,25\n",
    "str4 = \" There are 10 apple is 20 oranges and 3 bananas on the table\"\n",
    "print(str4.isalpha())\n",
    "lst4 = str4.split()\n",
    "print(len(lst4))\n",
    "digit = []\n",
    "alpha = []\n",
    "i = 0 \n",
    "for i in (lst4)  :\n",
    "    if i.isdigit() :\n",
    "        digit.append(i)\n",
    "    else :\n",
    "        alpha.append(i)\n",
    "print(\"list of digits\",digit)\n",
    "print(\"list of alphabets\",alpha)\n",
    "\n",
    "#String Based Assignment Problem 26,27\n",
    "uppercount = 0\n",
    "lowercount  = 0\n",
    "for i in str4 :\n",
    "    if i.isupper() : \n",
    "        uppercount = uppercount + 1\n",
    "    else :\n",
    "        if i.islower() :\n",
    "            lowercount = lowercount + 1\n",
    "print(\"Alphabets in upper case \", uppercount )\n",
    "print(\"Alphabets in lower casr \", lowercount)\n",
    "\n",
    "#String Based Assignment Problem 28,29\n",
    "print(str4.swapcase())\n",
    "print(str4.replace(\"There\", \"\"))\n",
    "           "
   ]
  },
  {
   "cell_type": "code",
   "execution_count": 9,
   "id": "c14d9602-f38e-464b-af44-7969629d9c70",
   "metadata": {},
   "outputs": [
    {
     "name": "stdout",
     "output_type": "stream",
     "text": [
      "User Name :  swap.mane2008\n",
      "Domain :  gmail.com\n"
     ]
    }
   ],
   "source": [
    "#String Based Assignment Problem 30,31,32\n",
    "str5 = \"swap.mane2008@gmail.com\"\n",
    "print(\"User Name : \" ,str5.split(\"@\")[0])\n",
    "print(\"Domain : \" , str5.split(\"@\")[1])"
   ]
  },
  {
   "cell_type": "code",
   "execution_count": 10,
   "id": "219a9a39-6ffd-4995-9e07-d8ffe25dd5c6",
   "metadata": {},
   "outputs": [
    {
     "name": "stdout",
     "output_type": "stream",
     "text": [
      "Protocol :  https\n",
      "Alphabet h has been 2 times in the string.\n",
      "Alphabet t has been 3 times in the string.\n",
      "Alphabet t has been 3 times in the string.\n",
      "Alphabet p has been 1 times in the string.\n",
      "Alphabet s has been 1 times in the string.\n",
      "Alphabet : has been 1 times in the string.\n",
      "Alphabet / has been 3 times in the string.\n",
      "Alphabet / has been 3 times in the string.\n",
      "Alphabet g has been 1 times in the string.\n",
      "Alphabet i has been 1 times in the string.\n",
      "Alphabet t has been 3 times in the string.\n",
      "Alphabet h has been 2 times in the string.\n",
      "Alphabet u has been 1 times in the string.\n",
      "Alphabet b has been 1 times in the string.\n",
      "Alphabet . has been 1 times in the string.\n",
      "Alphabet c has been 1 times in the string.\n",
      "Alphabet o has been 1 times in the string.\n",
      "Alphabet m has been 1 times in the string.\n",
      "Alphabet / has been 3 times in the string.\n"
     ]
    }
   ],
   "source": [
    "#String Based Assignment Problem 34,35,36\n",
    "str6 = \"https://github.com/\"\n",
    "print(\"Protocol : \" ,str6.split(\":\")[0])\n",
    "for i in str6 : \n",
    "    alpha = i \n",
    "    count = str6.count(i)\n",
    "    print(f\"Alphabet {alpha} has been {count} times in the string.\")"
   ]
  },
  {
   "cell_type": "code",
   "execution_count": 11,
   "id": "867cdb53-cf6d-437b-9bbe-01f57d5f1c39",
   "metadata": {},
   "outputs": [
    {
     "name": "stdout",
     "output_type": "stream",
     "text": [
      "False\n",
      "False\n",
      "['h', 't', 't', 'p', 's', ':', '/', '/', 'g', 'i', 't', 'h', 'u', 'b', '.', 'c', 'o', 'm', '/']\n"
     ]
    }
   ],
   "source": [
    "#String Based Assignment Problem 38, 39 , 40 \n",
    "print(str6.isdigit())\n",
    "print(str6.isalpha())\n",
    "lst6 = []\n",
    "for i in str6 : \n",
    "    lst6.append(i)\n",
    "\n",
    "print(lst6)\n",
    "   "
   ]
  },
  {
   "cell_type": "code",
   "execution_count": 12,
   "id": "98788624-7a53-4b08-b270-59d56651a178",
   "metadata": {},
   "outputs": [
    {
     "name": "stdin",
     "output_type": "stream",
     "text": [
      "anagrams check 1 listen\n",
      "anagrams check 2 silent\n"
     ]
    },
    {
     "name": "stdout",
     "output_type": "stream",
     "text": [
      "It is Anagrams\n"
     ]
    }
   ],
   "source": [
    "##String Based Assignment Problem 41 \n",
    "str7 = input(\"anagrams check 1\") \n",
    "str8 = input(\"anagrams check 2\") \n",
    "\n",
    "if sorted(str7) == sorted(str8) :\n",
    "    print(\"It is Anagrams\")\n",
    "else :\n",
    "    print(\"It is not Anagram\")"
   ]
  },
  {
   "cell_type": "code",
   "execution_count": 33,
   "id": "0a6e57b2-9d16-4d96-a09a-5fbf1be5e331",
   "metadata": {},
   "outputs": [
    {
     "name": "stdout",
     "output_type": "stream",
     "text": [
      "['India', 'is', 'amazing', ',', 'India', 'is', 'rich', 'in', 'heritage', ',', 'India', 'is', 'awesmome']\n",
      "{'rich', 'awesmome', 'in', 'India', ',', 'heritage', 'amazing', 'is'}\n"
     ]
    }
   ],
   "source": [
    "##String Based Assignment Problem 45 l\n",
    "str9 = \"India is amazing , India is rich in heritage , India is awesmome\"\n",
    "st9 = str9.split()\n",
    "print(lst9)\n",
    "set1 = set(lst9)\n",
    "print(set1)\n",
    "\n"
   ]
  },
  {
   "cell_type": "code",
   "execution_count": 30,
   "id": "0a03533d-c993-4e93-a6ce-0d4b4d92ac55",
   "metadata": {},
   "outputs": [
    {
     "data": {
      "text/plain": [
       "dict_values([3, 3, 1, 2, 1, 1, 1, 1])"
      ]
     },
     "execution_count": 30,
     "metadata": {},
     "output_type": "execute_result"
    }
   ],
   "source": [
    "dict1.values()"
   ]
  },
  {
   "cell_type": "code",
   "execution_count": 117,
   "id": "9ba18fff-1b95-4090-83ff-2e09fc683496",
   "metadata": {},
   "outputs": [
    {
     "name": "stdout",
     "output_type": "stream",
     "text": [
      "Count of item is 19 in the list\n",
      "[1, 2, 4, 5, 6, 7, 7, 9, 9, 7, 7, 7, 8, 9, 10, 3, 4, 99, 109, 11]\n",
      "[1, 2, 2.5, 4, 5, 6, 7, 7, 9, 9, 7, 7, 7, 8, 9, 10, 3, 4, 99, 109, 11]\n",
      "[1, 2, 4, 5, 6, 7, 7, 9, 9, 7, 7, 7, 8, 9, 10, 4, 99, 109, 11]\n",
      "3\n",
      "[11, 109, 99, 4, 10, 9, 8, 7, 7, 7, 9, 9, 7, 7, 6, 5, 4, 2, 1]\n",
      "[1, 2, 4, 4, 5, 6, 7, 7, 7, 7, 7, 8, 9, 9, 9, 10, 11, 99, 109]\n",
      "[109, 99, 11, 10, 9, 9, 9, 8, 7, 7, 7, 7, 7, 6, 5, 4, 4, 2, 1]\n"
     ]
    }
   ],
   "source": [
    "#List Based Practice Problem till 12\n",
    "list1 = [1,2,4,5,6,7,7,9,9,7,7,7,8,9,10,3,4,99,109]\n",
    "count = 0 \n",
    "for i in list1 :\n",
    "    count = count + 1 \n",
    "print(f\"Count of item is {count} in the list\")\n",
    "list1.append(11)\n",
    "print(list1)\n",
    "list1.insert(2,2.5)\n",
    "print(list1)\n",
    "list1.remove(3)\n",
    "list1.pop(2)\n",
    "print(list1)\n",
    "print(list1.index(5))\n",
    "#print(list1.count(7))\n",
    "print(list1[::-1])\n",
    "\n",
    "list1.sort(key=None, reverse=False)\n",
    "print(list1)\n",
    "list1.sort(key=None, reverse=True)\n",
    "print(list1)"
   ]
  },
  {
   "cell_type": "code",
   "execution_count": 118,
   "id": "d69c470d-2cfa-4908-8cbf-ef6709aed62f",
   "metadata": {},
   "outputs": [
    {
     "name": "stdout",
     "output_type": "stream",
     "text": [
      "0\n",
      "[0, 1, 2, 3, 4, 5, 6, 7, 8, 9, 10, 11, 12, 13, 14, 15, 16, 17, 18, 19, 20]\n",
      "[0, 2, 4, 6, 8, 10, 12, 14, 16, 18, 20]\n",
      "[1, 3, 5, 7, 9, 11, 13, 15, 17, 19]\n",
      "210\n",
      "20\n",
      "0\n",
      "[0, 1, 4, 9, 16, 25, 36, 49, 64, 81, 100, 121, 144, 169, 196, 225, 256, 289, 324, 361, 400]\n"
     ]
    }
   ],
   "source": [
    "#List Based Practice Problem from 12 to 18\n",
    "i = 0 \n",
    "print(i)\n",
    "list2 = []\n",
    "evenlist = []\n",
    "oddlist = []\n",
    "squareroot = []\n",
    "sum1 = 0\n",
    "while (i < 21) :\n",
    "    list2.append(i)\n",
    "    i = i + 1 \n",
    "print(list2)\n",
    "for i in list2 :\n",
    "    sum1 = i + sum1\n",
    "    if i % 2 == 0 :\n",
    "        evenlist.append(i)\n",
    "    else :\n",
    "        oddlist.append(i)\n",
    "    squareroot.append(i * i)\n",
    "print(evenlist)\n",
    "print(oddlist)\n",
    "print(sum1)\n",
    "print(max(list2))\n",
    "print(min(list2))\n",
    "print(squareroot)"
   ]
  },
  {
   "cell_type": "code",
   "execution_count": 122,
   "id": "029b11d3-cea9-4d4e-8eb1-7d5c58dd6e26",
   "metadata": {},
   "outputs": [
    {
     "name": "stdout",
     "output_type": "stream",
     "text": [
      "{1, 2, 4, 5, 6, 7, 8, 9, 10, 11}\n",
      "{99, 109}\n",
      "[109, 99, 11, 10, 9, 9, 9, 8, 7, 7, 7, 7, 7, 6, 5, 4, 4, 2, 1, 0, 1, 2, 3, 4, 5, 6, 7, 8, 9, 10, 11, 12, 13, 14, 15, 16, 17, 18, 19, 20]\n",
      "[109, 99, 11, 10, 9, 9, 9, 8, 7, 7, 7, 7, 7, 6, 5, 4, 4, 2, 1, 109, 99, 11, 10, 9, 9, 9, 8, 7, 7, 7, 7, 7, 6, 5, 4, 4, 2, 1]\n"
     ]
    }
   ],
   "source": [
    "#List Based Practice Problem from 19 to 24\n",
    "randomlist = [1,3,4,45,67.81,33,9,77,65,45,23,81,90,2,3,4]\n",
    "randomlist = set(randomlist)\n",
    "randomlist = list(randomlist)\n",
    "\n",
    "seta = set(list1)\n",
    "setb = set(list2)\n",
    "print(((seta).intersection(setb))) \n",
    "print(((seta).difference(setb)))\n",
    "print(list1 + list2 )\n",
    "print(list1 * 2)\n"
   ]
  },
  {
   "cell_type": "code",
   "execution_count": 121,
   "id": "6f200b5e-451b-40d6-81b9-2eaa70e5edff",
   "metadata": {},
   "outputs": [
    {
     "name": "stdout",
     "output_type": "stream",
     "text": [
      "[109, 99, 11, 10, 9, 9, 9, 8, 7, 7, 7, 7, 7, 6, 5, 4, 4, 2, 1, 109, 99, 11, 10, 9, 9, 9, 8, 7, 7, 7, 7, 7, 6, 5, 4, 4, 2, 1]\n"
     ]
    }
   ],
   "source": []
  },
  {
   "cell_type": "code",
   "execution_count": null,
   "id": "fd69f0f6-9da3-42d4-bd91-e4349e8a1e81",
   "metadata": {},
   "outputs": [],
   "source": []
  }
 ],
 "metadata": {
  "kernelspec": {
   "display_name": "Python 3 (ipykernel)",
   "language": "python",
   "name": "python3"
  },
  "language_info": {
   "codemirror_mode": {
    "name": "ipython",
    "version": 3
   },
   "file_extension": ".py",
   "mimetype": "text/x-python",
   "name": "python",
   "nbconvert_exporter": "python",
   "pygments_lexer": "ipython3",
   "version": "3.10.8"
  }
 },
 "nbformat": 4,
 "nbformat_minor": 5
}
